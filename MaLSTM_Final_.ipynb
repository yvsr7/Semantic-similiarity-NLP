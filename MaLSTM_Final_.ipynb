{
  "nbformat": 4,
  "nbformat_minor": 0,
  "metadata": {
    "colab": {
      "name": "MaLSTM Final .ipynb",
      "provenance": [],
      "collapsed_sections": [],
      "machine_shape": "hm"
    },
    "kernelspec": {
      "name": "python3",
      "display_name": "Python 3"
    },
    "accelerator": "GPU"
  },
  "cells": [
    {
      "cell_type": "code",
      "metadata": {
        "id": "TXRHAI-DJYhm",
        "colab_type": "code",
        "colab": {}
      },
      "source": [
        "import pandas as pd"
      ],
      "execution_count": 0,
      "outputs": []
    },
    {
      "cell_type": "code",
      "metadata": {
        "id": "L7lxjRYfcfHA",
        "colab_type": "code",
        "colab": {}
      },
      "source": [
        "#Reading the data \n",
        "df_train=pd.read_csv(\"train.csv\",encoding='utf8',engine='python',error_bad_lines=False)\n",
        "df_test=pd.read_csv(\"test.csv\",encoding='utf8',engine='python',error_bad_lines=False)"
      ],
      "execution_count": 0,
      "outputs": []
    },
    {
      "cell_type": "code",
      "metadata": {
        "id": "6oda3vbfdJzo",
        "colab_type": "code",
        "outputId": "ba5b32e6-5423-4a5b-f2c9-dac620339171",
        "colab": {
          "base_uri": "https://localhost:8080/",
          "height": 134
        }
      },
      "source": [
        "# 2. download google word2vec pretrained embedding \n",
        "\n",
        "!wget -P /root/input/ -c \"https://s3.amazonaws.com/dl4j-distribution/GoogleNews-vectors-negative300.bin.gz\""
      ],
      "execution_count": 0,
      "outputs": [
        {
          "output_type": "stream",
          "text": [
            "--2020-04-03 12:25:31--  https://s3.amazonaws.com/dl4j-distribution/GoogleNews-vectors-negative300.bin.gz\n",
            "Resolving s3.amazonaws.com (s3.amazonaws.com)... 52.216.251.30\n",
            "Connecting to s3.amazonaws.com (s3.amazonaws.com)|52.216.251.30|:443... connected.\n",
            "HTTP request sent, awaiting response... 416 Requested Range Not Satisfiable\n",
            "\n",
            "    The file is already fully retrieved; nothing to do.\n",
            "\n"
          ],
          "name": "stdout"
        }
      ]
    },
    {
      "cell_type": "code",
      "metadata": {
        "id": "g4gBMJuZdS8O",
        "colab_type": "code",
        "outputId": "08d1e543-a6a2-4237-f63c-16d67320ba28",
        "colab": {
          "base_uri": "https://localhost:8080/",
          "height": 558
        }
      },
      "source": [
        "from time import time\n",
        "import pandas as pd\n",
        "import numpy as np\n",
        "!pip install gensim\n",
        "from gensim.models import KeyedVectors\n",
        "import re\n",
        "from nltk.corpus import stopwords\n",
        "from sklearn.model_selection import train_test_split\n",
        "import matplotlib.pyplot as plt\n",
        "import seaborn as sns\n",
        "\n",
        "import itertools\n",
        "import datetime\n",
        "\n",
        "from keras.preprocessing.sequence import pad_sequences\n",
        "from keras.models import Model\n",
        "from keras.layers import Input, Embedding, LSTM, merge\n",
        "import keras.backend as K\n",
        "from keras.optimizers import Adadelta\n",
        "from keras.callbacks import ModelCheckpoint"
      ],
      "execution_count": 0,
      "outputs": [
        {
          "output_type": "stream",
          "text": [
            "Requirement already satisfied: gensim in /usr/local/lib/python3.6/dist-packages (3.6.0)\n",
            "Requirement already satisfied: scipy>=0.18.1 in /usr/local/lib/python3.6/dist-packages (from gensim) (1.4.1)\n",
            "Requirement already satisfied: numpy>=1.11.3 in /usr/local/lib/python3.6/dist-packages (from gensim) (1.18.2)\n",
            "Requirement already satisfied: smart-open>=1.2.1 in /usr/local/lib/python3.6/dist-packages (from gensim) (1.10.0)\n",
            "Requirement already satisfied: six>=1.5.0 in /usr/local/lib/python3.6/dist-packages (from gensim) (1.12.0)\n",
            "Requirement already satisfied: requests in /usr/local/lib/python3.6/dist-packages (from smart-open>=1.2.1->gensim) (2.21.0)\n",
            "Requirement already satisfied: google-cloud-storage in /usr/local/lib/python3.6/dist-packages (from smart-open>=1.2.1->gensim) (1.18.1)\n",
            "Requirement already satisfied: boto3 in /usr/local/lib/python3.6/dist-packages (from smart-open>=1.2.1->gensim) (1.12.31)\n",
            "Requirement already satisfied: idna<2.9,>=2.5 in /usr/local/lib/python3.6/dist-packages (from requests->smart-open>=1.2.1->gensim) (2.8)\n",
            "Requirement already satisfied: certifi>=2017.4.17 in /usr/local/lib/python3.6/dist-packages (from requests->smart-open>=1.2.1->gensim) (2019.11.28)\n",
            "Requirement already satisfied: chardet<3.1.0,>=3.0.2 in /usr/local/lib/python3.6/dist-packages (from requests->smart-open>=1.2.1->gensim) (3.0.4)\n",
            "Requirement already satisfied: urllib3<1.25,>=1.21.1 in /usr/local/lib/python3.6/dist-packages (from requests->smart-open>=1.2.1->gensim) (1.24.3)\n",
            "Requirement already satisfied: google-auth>=1.2.0 in /usr/local/lib/python3.6/dist-packages (from google-cloud-storage->smart-open>=1.2.1->gensim) (1.7.2)\n",
            "Requirement already satisfied: google-resumable-media<0.5.0dev,>=0.3.1 in /usr/local/lib/python3.6/dist-packages (from google-cloud-storage->smart-open>=1.2.1->gensim) (0.4.1)\n",
            "Requirement already satisfied: google-cloud-core<2.0dev,>=1.0.0 in /usr/local/lib/python3.6/dist-packages (from google-cloud-storage->smart-open>=1.2.1->gensim) (1.0.3)\n",
            "Requirement already satisfied: jmespath<1.0.0,>=0.7.1 in /usr/local/lib/python3.6/dist-packages (from boto3->smart-open>=1.2.1->gensim) (0.9.5)\n",
            "Requirement already satisfied: botocore<1.16.0,>=1.15.31 in /usr/local/lib/python3.6/dist-packages (from boto3->smart-open>=1.2.1->gensim) (1.15.31)\n",
            "Requirement already satisfied: s3transfer<0.4.0,>=0.3.0 in /usr/local/lib/python3.6/dist-packages (from boto3->smart-open>=1.2.1->gensim) (0.3.3)\n",
            "Requirement already satisfied: pyasn1-modules>=0.2.1 in /usr/local/lib/python3.6/dist-packages (from google-auth>=1.2.0->google-cloud-storage->smart-open>=1.2.1->gensim) (0.2.8)\n",
            "Requirement already satisfied: cachetools<3.2,>=2.0.0 in /usr/local/lib/python3.6/dist-packages (from google-auth>=1.2.0->google-cloud-storage->smart-open>=1.2.1->gensim) (3.1.1)\n",
            "Requirement already satisfied: setuptools>=40.3.0 in /usr/local/lib/python3.6/dist-packages (from google-auth>=1.2.0->google-cloud-storage->smart-open>=1.2.1->gensim) (46.0.0)\n",
            "Requirement already satisfied: rsa<4.1,>=3.1.4 in /usr/local/lib/python3.6/dist-packages (from google-auth>=1.2.0->google-cloud-storage->smart-open>=1.2.1->gensim) (4.0)\n",
            "Requirement already satisfied: google-api-core<2.0.0dev,>=1.14.0 in /usr/local/lib/python3.6/dist-packages (from google-cloud-core<2.0dev,>=1.0.0->google-cloud-storage->smart-open>=1.2.1->gensim) (1.16.0)\n",
            "Requirement already satisfied: docutils<0.16,>=0.10 in /usr/local/lib/python3.6/dist-packages (from botocore<1.16.0,>=1.15.31->boto3->smart-open>=1.2.1->gensim) (0.15.2)\n",
            "Requirement already satisfied: python-dateutil<3.0.0,>=2.1 in /usr/local/lib/python3.6/dist-packages (from botocore<1.16.0,>=1.15.31->boto3->smart-open>=1.2.1->gensim) (2.8.1)\n",
            "Requirement already satisfied: pyasn1<0.5.0,>=0.4.6 in /usr/local/lib/python3.6/dist-packages (from pyasn1-modules>=0.2.1->google-auth>=1.2.0->google-cloud-storage->smart-open>=1.2.1->gensim) (0.4.8)\n",
            "Requirement already satisfied: googleapis-common-protos<2.0dev,>=1.6.0 in /usr/local/lib/python3.6/dist-packages (from google-api-core<2.0.0dev,>=1.14.0->google-cloud-core<2.0dev,>=1.0.0->google-cloud-storage->smart-open>=1.2.1->gensim) (1.51.0)\n",
            "Requirement already satisfied: pytz in /usr/local/lib/python3.6/dist-packages (from google-api-core<2.0.0dev,>=1.14.0->google-cloud-core<2.0dev,>=1.0.0->google-cloud-storage->smart-open>=1.2.1->gensim) (2018.9)\n",
            "Requirement already satisfied: protobuf>=3.4.0 in /usr/local/lib/python3.6/dist-packages (from google-api-core<2.0.0dev,>=1.14.0->google-cloud-core<2.0dev,>=1.0.0->google-cloud-storage->smart-open>=1.2.1->gensim) (3.10.0)\n"
          ],
          "name": "stdout"
        },
        {
          "output_type": "stream",
          "text": [
            "/usr/local/lib/python3.6/dist-packages/statsmodels/tools/_testing.py:19: FutureWarning: pandas.util.testing is deprecated. Use the functions in the public API at pandas.testing instead.\n",
            "  import pandas.util.testing as tm\n"
          ],
          "name": "stderr"
        }
      ]
    },
    {
      "cell_type": "code",
      "metadata": {
        "id": "2CDhMd5eevtN",
        "colab_type": "code",
        "outputId": "db92f0d2-2a64-4e83-f086-3411d9ef2886",
        "colab": {
          "base_uri": "https://localhost:8080/",
          "height": 50
        }
      },
      "source": [
        "import nltk\n",
        "nltk.download('stopwords')\n",
        "TRAIN_CSV = '/content/train.csv'\n",
        "TEST_CSV = '/content/test.csv'\n",
        "EMBEDDING_FILE = '/root/input/GoogleNews-vectors-negative300.bin.gz'\n"
      ],
      "execution_count": 0,
      "outputs": [
        {
          "output_type": "stream",
          "text": [
            "[nltk_data] Downloading package stopwords to /root/nltk_data...\n",
            "[nltk_data]   Package stopwords is already up-to-date!\n"
          ],
          "name": "stdout"
        }
      ]
    },
    {
      "cell_type": "code",
      "metadata": {
        "id": "y4ZVtGNOe6VV",
        "colab_type": "code",
        "colab": {}
      },
      "source": [
        "def text_to_word_list(text):\n",
        "    ''' \n",
        "    Pre process and convert texts to a list of words \n",
        "    input: str\n",
        "    output: list of cleaned word\n",
        "    '''\n",
        "    \n",
        "    text = str(text)\n",
        "    text = text.lower()\n",
        "\n",
        "    # Clean the text\n",
        "    text = re.sub(r\"[^A-Za-z0-9^,!.\\/'+-=]\", \" \", text)\n",
        "    text = re.sub(r\"what's\", \"what is \", text)\n",
        "    text = re.sub(r\"\\'s\", \" \", text)\n",
        "    text = re.sub(r\"\\'ve\", \" have \", text)\n",
        "    text = re.sub(r\"can't\", \"cannot \", text)\n",
        "    text = re.sub(r\"n't\", \" not \", text)\n",
        "    text = re.sub(r\"i'm\", \"i am \", text)\n",
        "    text = re.sub(r\"\\'re\", \" are \", text)\n",
        "    text = re.sub(r\"\\'d\", \" would \", text)\n",
        "    text = re.sub(r\"\\'ll\", \" will \", text)\n",
        "    text = re.sub(r\",\", \" \", text)\n",
        "    text = re.sub(r\"\\.\", \" \", text)\n",
        "    text = re.sub(r\"!\", \" ! \", text)\n",
        "    text = re.sub(r\"\\/\", \" \", text)\n",
        "    text = re.sub(r\"\\^\", \" ^ \", text)\n",
        "    text = re.sub(r\"\\+\", \" + \", text)\n",
        "    text = re.sub(r\"\\-\", \" - \", text)\n",
        "    text = re.sub(r\"\\=\", \" = \", text)\n",
        "    text = re.sub(r\"'\", \" \", text)\n",
        "    text = re.sub(r\"(\\d+)(k)\", r\"\\g<1>000\", text)\n",
        "    text = re.sub(r\":\", \" : \", text)\n",
        "    text = re.sub(r\" e g \", \" eg \", text)\n",
        "    text = re.sub(r\" b g \", \" bg \", text)\n",
        "    text = re.sub(r\" u s \", \" american \", text)\n",
        "    text = re.sub(r\"\\0s\", \"0\", text)\n",
        "    text = re.sub(r\" 9 11 \", \"911\", text)\n",
        "    text = re.sub(r\"e - mail\", \"email\", text)\n",
        "    text = re.sub(r\"j k\", \"jk\", text)\n",
        "    text = re.sub(r\"\\s{2,}\", \" \", text)\n",
        "    text = re.sub(\"quikly\",\"quickly\", text)\n",
        "\n",
        "    text = text.split()\n",
        "\n",
        "    return text"
      ],
      "execution_count": 0,
      "outputs": []
    },
    {
      "cell_type": "code",
      "metadata": {
        "id": "f1bEcRfJfCHT",
        "colab_type": "code",
        "outputId": "9620389a-e85f-4467-a486-1c03c578913a",
        "colab": {
          "base_uri": "https://localhost:8080/",
          "height": 121
        }
      },
      "source": [
        "vocabulary = {} \n",
        "inverse_vocabulary = ['<unk>'] \n",
        "word2vec = KeyedVectors.load_word2vec_format(EMBEDDING_FILE, binary=True)\n",
        "\n",
        "\n",
        "word2vec.word_vec(\"test\")[:10]"
      ],
      "execution_count": 0,
      "outputs": [
        {
          "output_type": "stream",
          "text": [
            "/usr/local/lib/python3.6/dist-packages/smart_open/smart_open_lib.py:410: UserWarning: This function is deprecated, use smart_open.open instead. See the migration notes for details: https://github.com/RaRe-Technologies/smart_open/blob/master/README.rst#migrating-to-the-new-open-function\n",
            "  'See the migration notes for details: %s' % _MIGRATION_NOTES_URL\n"
          ],
          "name": "stderr"
        },
        {
          "output_type": "execute_result",
          "data": {
            "text/plain": [
              "array([-0.14257812, -0.03686523,  0.13574219, -0.06201172,  0.07958984,\n",
              "        0.01904297, -0.08154297, -0.12792969, -0.02954102,  0.23632812],\n",
              "      dtype=float32)"
            ]
          },
          "metadata": {
            "tags": []
          },
          "execution_count": 9
        }
      ]
    },
    {
      "cell_type": "code",
      "metadata": {
        "id": "ebnH5bKtgamv",
        "colab_type": "code",
        "outputId": "6f8a9cde-9e9c-4b4b-91b6-dd1206244d3e",
        "colab": {
          "base_uri": "https://localhost:8080/",
          "height": 836
        }
      },
      "source": [
        "import matplotlib.pyplot as plt\n",
        "\n",
        "plt.hist(df_train.question1.map(lambda x: len(str(x).split())).values, bins = 100)"
      ],
      "execution_count": 0,
      "outputs": [
        {
          "output_type": "execute_result",
          "data": {
            "text/plain": [
              "(array([1.4000e+02, 3.3310e+03, 9.7510e+03, 1.8748e+04, 7.4030e+04,\n",
              "        4.7608e+04, 4.5475e+04, 3.9485e+04, 5.4394e+04, 1.8880e+04,\n",
              "        1.6485e+04, 1.3394e+04, 1.9268e+04, 6.7930e+03, 5.7730e+03,\n",
              "        5.0280e+03, 8.0050e+03, 2.9060e+03, 2.6050e+03, 2.2500e+03,\n",
              "        3.7130e+03, 1.4370e+03, 1.0150e+03, 8.0700e+02, 5.4200e+02,\n",
              "        7.3000e+02, 2.2700e+02, 1.8900e+02, 1.4300e+02, 2.7000e+02,\n",
              "        1.0800e+02, 9.3000e+01, 7.0000e+01, 1.5400e+02, 3.7000e+01,\n",
              "        4.8000e+01, 4.2000e+01, 5.8000e+01, 4.3000e+01, 2.9000e+01,\n",
              "        2.2000e+01, 3.5000e+01, 2.2000e+01, 1.3000e+01, 6.0000e+00,\n",
              "        2.6000e+01, 8.0000e+00, 9.0000e+00, 1.2000e+01, 7.0000e+00,\n",
              "        1.0000e+01, 3.0000e+00, 2.0000e+00, 1.0000e+00, 3.0000e+00,\n",
              "        0.0000e+00, 1.0000e+00, 1.0000e+00, 2.0000e+00, 0.0000e+00,\n",
              "        0.0000e+00, 1.0000e+00, 0.0000e+00, 1.0000e+00, 0.0000e+00,\n",
              "        0.0000e+00, 0.0000e+00, 0.0000e+00, 0.0000e+00, 0.0000e+00,\n",
              "        0.0000e+00, 0.0000e+00, 0.0000e+00, 0.0000e+00, 0.0000e+00,\n",
              "        0.0000e+00, 0.0000e+00, 0.0000e+00, 0.0000e+00, 0.0000e+00,\n",
              "        0.0000e+00, 0.0000e+00, 0.0000e+00, 0.0000e+00, 0.0000e+00,\n",
              "        0.0000e+00, 0.0000e+00, 0.0000e+00, 0.0000e+00, 0.0000e+00,\n",
              "        0.0000e+00, 0.0000e+00, 0.0000e+00, 0.0000e+00, 0.0000e+00,\n",
              "        0.0000e+00, 0.0000e+00, 0.0000e+00, 0.0000e+00, 1.0000e+00]),\n",
              " array([  1.  ,   2.24,   3.48,   4.72,   5.96,   7.2 ,   8.44,   9.68,\n",
              "         10.92,  12.16,  13.4 ,  14.64,  15.88,  17.12,  18.36,  19.6 ,\n",
              "         20.84,  22.08,  23.32,  24.56,  25.8 ,  27.04,  28.28,  29.52,\n",
              "         30.76,  32.  ,  33.24,  34.48,  35.72,  36.96,  38.2 ,  39.44,\n",
              "         40.68,  41.92,  43.16,  44.4 ,  45.64,  46.88,  48.12,  49.36,\n",
              "         50.6 ,  51.84,  53.08,  54.32,  55.56,  56.8 ,  58.04,  59.28,\n",
              "         60.52,  61.76,  63.  ,  64.24,  65.48,  66.72,  67.96,  69.2 ,\n",
              "         70.44,  71.68,  72.92,  74.16,  75.4 ,  76.64,  77.88,  79.12,\n",
              "         80.36,  81.6 ,  82.84,  84.08,  85.32,  86.56,  87.8 ,  89.04,\n",
              "         90.28,  91.52,  92.76,  94.  ,  95.24,  96.48,  97.72,  98.96,\n",
              "        100.2 , 101.44, 102.68, 103.92, 105.16, 106.4 , 107.64, 108.88,\n",
              "        110.12, 111.36, 112.6 , 113.84, 115.08, 116.32, 117.56, 118.8 ,\n",
              "        120.04, 121.28, 122.52, 123.76, 125.  ]),\n",
              " <a list of 100 Patch objects>)"
            ]
          },
          "metadata": {
            "tags": []
          },
          "execution_count": 10
        },
        {
          "output_type": "display_data",
          "data": {
            "image/png": "[encoded data removed]",
            "text/plain": [
              "<Figure size 432x288 with 1 Axes>"
            ]
          },
          "metadata": {
            "tags": []
          }
        }
      ]
    },
    {
      "cell_type": "code",
      "metadata": {
        "id": "rmQ7zg_R86P0",
        "colab_type": "code",
        "outputId": "fcff644d-7807-4a12-c9de-9c381d616156",
        "colab": {
          "base_uri": "https://localhost:8080/",
          "height": 319
        }
      },
      "source": [
        "\n",
        "stops = set(stopwords.words('english'))\n",
        "outside_words=set()\n",
        "from tqdm import tqdm\n",
        "questions_cols = ['question1', 'question2']\n",
        "for dataset in [df_train,df_test]:\n",
        "  for index,row in (dataset.iterrows()):\n",
        "   \n",
        "    for question in questions_cols:\n",
        "      \n",
        "      q2n = [] \n",
        "      count_ = 0\n",
        "   \n",
        "      for word in text_to_word_list(row[question]):\n",
        "        \n",
        "        \n",
        "       \n",
        "        if word not in word2vec.vocab:\n",
        "          outside_words.add(word)\n",
        "          continue\n",
        "          \n",
        "        # limit the length to 50, this decreased the time to train an epoch \n",
        "        if count_ >= 50 :\n",
        "          continue\n",
        "        count_ +=1\n",
        "        \n",
        "        if word not in vocabulary:\n",
        "          vocabulary[word] = len(inverse_vocabulary)\n",
        "          q2n.append(len(inverse_vocabulary))\n",
        "          inverse_vocabulary.append(word)\n",
        "        else:\n",
        "          q2n.append(vocabulary[word])\n",
        "      \n",
        "      \n",
        "      dataset.at[index,question] = q2n\n",
        "     \n",
        "      \n",
        "embedding_dim = 300\n",
        "embeddings = 1 * np.random.randn(len(vocabulary)+1, embedding_dim)\n",
        "embeddings[0] = 0\n",
        "\n",
        "# by using the code above, the first vector of embeddings are all 0.\n",
        "embeddings[0]\n"
      ],
      "execution_count": 0,
      "outputs": [
        {
          "output_type": "execute_result",
          "data": {
            "text/plain": [
              "array([0., 0., 0., 0., 0., 0., 0., 0., 0., 0., 0., 0., 0., 0., 0., 0., 0.,\n",
              "       0., 0., 0., 0., 0., 0., 0., 0., 0., 0., 0., 0., 0., 0., 0., 0., 0.,\n",
              "       0., 0., 0., 0., 0., 0., 0., 0., 0., 0., 0., 0., 0., 0., 0., 0., 0.,\n",
              "       0., 0., 0., 0., 0., 0., 0., 0., 0., 0., 0., 0., 0., 0., 0., 0., 0.,\n",
              "       0., 0., 0., 0., 0., 0., 0., 0., 0., 0., 0., 0., 0., 0., 0., 0., 0.,\n",
              "       0., 0., 0., 0., 0., 0., 0., 0., 0., 0., 0., 0., 0., 0., 0., 0., 0.,\n",
              "       0., 0., 0., 0., 0., 0., 0., 0., 0., 0., 0., 0., 0., 0., 0., 0., 0.,\n",
              "       0., 0., 0., 0., 0., 0., 0., 0., 0., 0., 0., 0., 0., 0., 0., 0., 0.,\n",
              "       0., 0., 0., 0., 0., 0., 0., 0., 0., 0., 0., 0., 0., 0., 0., 0., 0.,\n",
              "       0., 0., 0., 0., 0., 0., 0., 0., 0., 0., 0., 0., 0., 0., 0., 0., 0.,\n",
              "       0., 0., 0., 0., 0., 0., 0., 0., 0., 0., 0., 0., 0., 0., 0., 0., 0.,\n",
              "       0., 0., 0., 0., 0., 0., 0., 0., 0., 0., 0., 0., 0., 0., 0., 0., 0.,\n",
              "       0., 0., 0., 0., 0., 0., 0., 0., 0., 0., 0., 0., 0., 0., 0., 0., 0.,\n",
              "       0., 0., 0., 0., 0., 0., 0., 0., 0., 0., 0., 0., 0., 0., 0., 0., 0.,\n",
              "       0., 0., 0., 0., 0., 0., 0., 0., 0., 0., 0., 0., 0., 0., 0., 0., 0.,\n",
              "       0., 0., 0., 0., 0., 0., 0., 0., 0., 0., 0., 0., 0., 0., 0., 0., 0.,\n",
              "       0., 0., 0., 0., 0., 0., 0., 0., 0., 0., 0., 0., 0., 0., 0., 0., 0.,\n",
              "       0., 0., 0., 0., 0., 0., 0., 0., 0., 0., 0.])"
            ]
          },
          "metadata": {
            "tags": []
          },
          "execution_count": 11
        }
      ]
    },
    {
      "cell_type": "code",
      "metadata": {
        "id": "gsvCbW1zlC3Q",
        "colab_type": "code",
        "outputId": "3d5c8e2c-d2ae-40ae-9774-186fe3c94c45",
        "colab": {
          "base_uri": "https://localhost:8080/",
          "height": 50
        }
      },
      "source": [
        "for word, index in tqdm(vocabulary.items()):\n",
        "  if word in word2vec.vocab:\n",
        "    embeddings[index] = word2vec.word_vec(word)\n",
        "    \n",
        "del word2vec \n",
        "# calculate the max length \n",
        "\n",
        "max_seq_length = max(df_train.question1.map(lambda x:len(x)).max(),\n",
        "                    df_train.question2.map(lambda x:len(x)).max(),\n",
        "                    df_test.question1.map(lambda x:len(x)).max(),\n",
        "                    df_test.question2.map(lambda x:len(x)).max())\n",
        "print(max_seq_length)"
      ],
      "execution_count": 0,
      "outputs": [
        {
          "output_type": "stream",
          "text": [
            "100%|██████████| 58706/58706 [00:00<00:00, 242100.81it/s]\n"
          ],
          "name": "stderr"
        },
        {
          "output_type": "stream",
          "text": [
            "50\n"
          ],
          "name": "stdout"
        }
      ]
    },
    {
      "cell_type": "code",
      "metadata": {
        "id": "iDNRiflepeZS",
        "colab_type": "code",
        "colab": {}
      },
      "source": [
        "\n",
        "num_samples = len(df_train)\n",
        "validation_size = (int)(num_samples * 0.2)\n",
        "training_size = len(df_train) - validation_size \n",
        "\n",
        "X = df_train[questions_cols]\n",
        "X_test = df_test[questions_cols]\n",
        "Y = df_train['is_duplicate']\n",
        "\n",
        "# train test split x and y into train and validation\n",
        "X_train, X_validation, Y_train, Y_validation = train_test_split(X,Y,test_size = validation_size)\n",
        "\n",
        "# Split to dicts\n",
        "X_test = {'left':X_test.question1,'right':X_test.question2}\n",
        "X_train = {'left':X_train.question1,'right':X_train.question2}\n",
        "X_validation = {'left':X_validation.question1,'right':X_validation.question2}\n",
        "#X_test = {'left':X_test.question1,'right':X_test.question2}\n",
        "\n",
        "# fetch Ys\n",
        "Y_train = Y_train.values\n",
        "Y_test = Y_validation.values\n",
        "\n",
        "# zero padding\n",
        "\n",
        "for dataset, side in itertools.product([X_test, X_train,X_validation],['left','right']):\n",
        "  dataset[side] = pad_sequences(dataset[side], maxlen = max_seq_length)\n",
        "\n",
        "# Make sure everything is ok\n",
        "assert X_train['left'].shape == X_train['right'].shape\n",
        "assert len(X_train['left']) == len(Y_train)"
      ],
      "execution_count": 0,
      "outputs": []
    },
    {
      "cell_type": "code",
      "metadata": {
        "id": "oRgJ9vuaS9l9",
        "colab_type": "code",
        "outputId": "cf28700e-18b2-483b-b770-e691afb30a97",
        "colab": {
          "base_uri": "https://localhost:8080/",
          "height": 195
        }
      },
      "source": [
        "df_train.head()"
      ],
      "execution_count": 0,
      "outputs": [
        {
          "output_type": "execute_result",
          "data": {
            "text/html": [
              "<div>\n",
              "<style scoped>\n",
              "    .dataframe tbody tr th:only-of-type {\n",
              "        vertical-align: middle;\n",
              "    }\n",
              "\n",
              "    .dataframe tbody tr th {\n",
              "        vertical-align: top;\n",
              "    }\n",
              "\n",
              "    .dataframe thead th {\n",
              "        text-align: right;\n",
              "    }\n",
              "</style>\n",
              "<table border=\"1\" class=\"dataframe\">\n",
              "  <thead>\n",
              "    <tr style=\"text-align: right;\">\n",
              "      <th></th>\n",
              "      <th>id</th>\n",
              "      <th>qid1</th>\n",
              "      <th>qid2</th>\n",
              "      <th>question1</th>\n",
              "      <th>question2</th>\n",
              "      <th>is_duplicate</th>\n",
              "    </tr>\n",
              "  </thead>\n",
              "  <tbody>\n",
              "    <tr>\n",
              "      <th>0</th>\n",
              "      <td>0</td>\n",
              "      <td>1</td>\n",
              "      <td>2</td>\n",
              "      <td>[1, 2, 3, 4, 5, 4, 6, 7, 8, 9, 10, 8, 11]</td>\n",
              "      <td>[1, 2, 3, 4, 5, 4, 6, 7, 8, 9, 10]</td>\n",
              "      <td>0</td>\n",
              "    </tr>\n",
              "    <tr>\n",
              "      <th>1</th>\n",
              "      <td>1</td>\n",
              "      <td>3</td>\n",
              "      <td>4</td>\n",
              "      <td>[1, 2, 3, 12, 13, 14, 15, 16]</td>\n",
              "      <td>[1, 17, 18, 19, 3, 20, 21, 22, 3, 13, 14, 15, ...</td>\n",
              "      <td>0</td>\n",
              "    </tr>\n",
              "    <tr>\n",
              "      <th>2</th>\n",
              "      <td>2</td>\n",
              "      <td>5</td>\n",
              "      <td>6</td>\n",
              "      <td>[24, 25, 14, 26, 3, 27, 28, 29, 30, 31, 32, 33]</td>\n",
              "      <td>[24, 25, 29, 27, 34, 35, 5, 36, 37, 38]</td>\n",
              "      <td>0</td>\n",
              "    </tr>\n",
              "    <tr>\n",
              "      <th>3</th>\n",
              "      <td>3</td>\n",
              "      <td>7</td>\n",
              "      <td>8</td>\n",
              "      <td>[39, 40, 14, 41, 42, 43, 24, 25, 14, 44, 45]</td>\n",
              "      <td>[46, 3, 47, 48, 49, 50, 49, 2, 51, 5]</td>\n",
              "      <td>0</td>\n",
              "    </tr>\n",
              "    <tr>\n",
              "      <th>4</th>\n",
              "      <td>4</td>\n",
              "      <td>9</td>\n",
              "      <td>10</td>\n",
              "      <td>[52, 53, 54, 8, 55, 56, 57, 58, 59, 60, 61, 62]</td>\n",
              "      <td>[52, 63, 17, 64, 8, 58, 55]</td>\n",
              "      <td>0</td>\n",
              "    </tr>\n",
              "  </tbody>\n",
              "</table>\n",
              "</div>"
            ],
            "text/plain": [
              "   id  qid1  ...                                          question2 is_duplicate\n",
              "0   0     1  ...                 [1, 2, 3, 4, 5, 4, 6, 7, 8, 9, 10]            0\n",
              "1   1     3  ...  [1, 17, 18, 19, 3, 20, 21, 22, 3, 13, 14, 15, ...            0\n",
              "2   2     5  ...            [24, 25, 29, 27, 34, 35, 5, 36, 37, 38]            0\n",
              "3   3     7  ...              [46, 3, 47, 48, 49, 50, 49, 2, 51, 5]            0\n",
              "4   4     9  ...                        [52, 63, 17, 64, 8, 58, 55]            0\n",
              "\n",
              "[5 rows x 6 columns]"
            ]
          },
          "metadata": {
            "tags": []
          },
          "execution_count": 14
        }
      ]
    },
    {
      "cell_type": "code",
      "metadata": {
        "id": "g0rtyOvAKi_G",
        "colab_type": "code",
        "colab": {}
      },
      "source": [
        "def exponent_neg_manhattan_distance(left, right):\n",
        "    return K.exp(-K.sum(K.abs(left-right), axis=1, keepdims=True))"
      ],
      "execution_count": 0,
      "outputs": []
    },
    {
      "cell_type": "code",
      "metadata": {
        "id": "PJf4LpOXqW8t",
        "colab_type": "code",
        "outputId": "c4f156a6-8899-419c-d60f-4682ae2984cf",
        "colab": {
          "base_uri": "https://localhost:8080/",
          "height": 894
        }
      },
      "source": [
        "import keras\n",
        "!pip install tensorflow==1.14.0\n",
        "import tensorflow as tf\n",
        "from keras.layers import Input, Embedding, LSTM, Lambda\n",
        "\n",
        "\n",
        "\n",
        "\n",
        "n_hidden = 50\n",
        "gradient_clipping_norm  = 1.25\n",
        "\n",
        "\n",
        "batch_size = 256\n",
        "n_epoch = 50\n",
        "\n",
        "def exponent_neg_manhattan_distance(left, right):\n",
        "  return K.exp(-K.sum(K.abs(left-right),axis = 1, keepdims = True))\n",
        "\n",
        "# a. input layer\n",
        "left_input = Input(shape=(max_seq_length,), dtype=\"int32\")\n",
        "right_input = Input(shape=(max_seq_length,), dtype=\"int32\")\n",
        "\n",
        "# b. embedding layer\n",
        "embedding_layer = Embedding(\n",
        "    input_dim = len(embeddings), \n",
        "    \n",
        "    output_dim = embedding_dim, # \n",
        "    weights= [embeddings], \n",
        "    input_length=max_seq_length,\n",
        "    trainable=False)\n",
        "\n",
        "encoded_left = embedding_layer(left_input)\n",
        "encoded_right = embedding_layer(right_input)\n",
        "\n",
        "#\n",
        "shared_lstm = LSTM(n_hidden)\n",
        "left_output = shared_lstm(encoded_left)\n",
        "right_output = shared_lstm(encoded_right)\n",
        "\n",
        "# Calculates the distance as defined by the MaLSTM model\n",
        "malstm_distance = Lambda(function=lambda x: exponent_neg_manhattan_distance(x[0], x[1]),output_shape=lambda x: (x[0][0], 1))([left_output, right_output])\n",
        "\n",
        "\n",
        "malstm = Model([left_input, right_input], [malstm_distance])\n",
        "malstm.summary()\n"
      ],
      "execution_count": 0,
      "outputs": [
        {
          "output_type": "stream",
          "text": [
            "Requirement already satisfied: tensorflow==1.14.0 in /usr/local/lib/python3.6/dist-packages (1.14.0)\n",
            "Requirement already satisfied: wrapt>=1.11.1 in /usr/local/lib/python3.6/dist-packages (from tensorflow==1.14.0) (1.12.1)\n",
            "Requirement already satisfied: six>=1.10.0 in /usr/local/lib/python3.6/dist-packages (from tensorflow==1.14.0) (1.12.0)\n",
            "Requirement already satisfied: keras-preprocessing>=1.0.5 in /usr/local/lib/python3.6/dist-packages (from tensorflow==1.14.0) (1.1.0)\n",
            "Requirement already satisfied: termcolor>=1.1.0 in /usr/local/lib/python3.6/dist-packages (from tensorflow==1.14.0) (1.1.0)\n",
            "Requirement already satisfied: wheel>=0.26 in /usr/local/lib/python3.6/dist-packages (from tensorflow==1.14.0) (0.34.2)\n",
            "Requirement already satisfied: numpy<2.0,>=1.14.5 in /usr/local/lib/python3.6/dist-packages (from tensorflow==1.14.0) (1.18.2)\n",
            "Requirement already satisfied: gast>=0.2.0 in /usr/local/lib/python3.6/dist-packages (from tensorflow==1.14.0) (0.3.3)\n",
            "Requirement already satisfied: protobuf>=3.6.1 in /usr/local/lib/python3.6/dist-packages (from tensorflow==1.14.0) (3.10.0)\n",
            "Requirement already satisfied: tensorboard<1.15.0,>=1.14.0 in /usr/local/lib/python3.6/dist-packages (from tensorflow==1.14.0) (1.14.0)\n",
            "Requirement already satisfied: tensorflow-estimator<1.15.0rc0,>=1.14.0rc0 in /usr/local/lib/python3.6/dist-packages (from tensorflow==1.14.0) (1.14.0)\n",
            "Requirement already satisfied: grpcio>=1.8.6 in /usr/local/lib/python3.6/dist-packages (from tensorflow==1.14.0) (1.27.2)\n",
            "Requirement already satisfied: google-pasta>=0.1.6 in /usr/local/lib/python3.6/dist-packages (from tensorflow==1.14.0) (0.2.0)\n",
            "Requirement already satisfied: astor>=0.6.0 in /usr/local/lib/python3.6/dist-packages (from tensorflow==1.14.0) (0.8.1)\n",
            "Requirement already satisfied: keras-applications>=1.0.6 in /usr/local/lib/python3.6/dist-packages (from tensorflow==1.14.0) (1.0.8)\n",
            "Requirement already satisfied: absl-py>=0.7.0 in /usr/local/lib/python3.6/dist-packages (from tensorflow==1.14.0) (0.9.0)\n",
            "Requirement already satisfied: setuptools in /usr/local/lib/python3.6/dist-packages (from protobuf>=3.6.1->tensorflow==1.14.0) (46.0.0)\n",
            "Requirement already satisfied: markdown>=2.6.8 in /usr/local/lib/python3.6/dist-packages (from tensorboard<1.15.0,>=1.14.0->tensorflow==1.14.0) (3.2.1)\n",
            "Requirement already satisfied: werkzeug>=0.11.15 in /usr/local/lib/python3.6/dist-packages (from tensorboard<1.15.0,>=1.14.0->tensorflow==1.14.0) (1.0.0)\n",
            "Requirement already satisfied: h5py in /usr/local/lib/python3.6/dist-packages (from keras-applications>=1.0.6->tensorflow==1.14.0) (2.10.0)\n",
            "WARNING:tensorflow:From /usr/local/lib/python3.6/dist-packages/keras/backend/tensorflow_backend.py:66: The name tf.get_default_graph is deprecated. Please use tf.compat.v1.get_default_graph instead.\n",
            "\n",
            "WARNING:tensorflow:From /usr/local/lib/python3.6/dist-packages/keras/backend/tensorflow_backend.py:541: The name tf.placeholder is deprecated. Please use tf.compat.v1.placeholder instead.\n",
            "\n",
            "WARNING:tensorflow:From /usr/local/lib/python3.6/dist-packages/keras/backend/tensorflow_backend.py:4432: The name tf.random_uniform is deprecated. Please use tf.random.uniform instead.\n",
            "\n",
            "WARNING:tensorflow:From /usr/local/lib/python3.6/dist-packages/keras/backend/tensorflow_backend.py:190: The name tf.get_default_session is deprecated. Please use tf.compat.v1.get_default_session instead.\n",
            "\n",
            "WARNING:tensorflow:From /usr/local/lib/python3.6/dist-packages/keras/backend/tensorflow_backend.py:197: The name tf.ConfigProto is deprecated. Please use tf.compat.v1.ConfigProto instead.\n",
            "\n",
            "Model: \"model_1\"\n",
            "__________________________________________________________________________________________________\n",
            "Layer (type)                    Output Shape         Param #     Connected to                     \n",
            "==================================================================================================\n",
            "input_1 (InputLayer)            (None, 50)           0                                            \n",
            "__________________________________________________________________________________________________\n",
            "input_2 (InputLayer)            (None, 50)           0                                            \n",
            "__________________________________________________________________________________________________\n",
            "embedding_1 (Embedding)         (None, 50, 300)      17612100    input_1[0][0]                    \n",
            "                                                                 input_2[0][0]                    \n",
            "__________________________________________________________________________________________________\n",
            "lstm_1 (LSTM)                   (None, 50)           70200       embedding_1[0][0]                \n",
            "                                                                 embedding_1[1][0]                \n",
            "__________________________________________________________________________________________________\n",
            "lambda_1 (Lambda)               (None, 1)            0           lstm_1[0][0]                     \n",
            "                                                                 lstm_1[1][0]                     \n",
            "==================================================================================================\n",
            "Total params: 17,682,300\n",
            "Trainable params: 70,200\n",
            "Non-trainable params: 17,612,100\n",
            "__________________________________________________________________________________________________\n"
          ],
          "name": "stdout"
        }
      ]
    },
    {
      "cell_type": "code",
      "metadata": {
        "id": "-FlzT7KP7VRn",
        "colab_type": "code",
        "colab": {}
      },
      "source": [
        ""
      ],
      "execution_count": 0,
      "outputs": []
    },
    {
      "cell_type": "code",
      "metadata": {
        "id": "tEEcRuK5L1LY",
        "colab_type": "code",
        "colab": {}
      },
      "source": [
        "optimizer = Adadelta(clipnorm = gradient_clipping_norm)"
      ],
      "execution_count": 0,
      "outputs": []
    },
    {
      "cell_type": "code",
      "metadata": {
        "id": "eWi5c7F0L_9E",
        "colab_type": "code",
        "outputId": "5e5826a5-c902-4a5f-8db5-595ca8250152",
        "colab": {
          "base_uri": "https://localhost:8080/",
          "height": 70
        }
      },
      "source": [
        "\n",
        "malstm.compile(loss='mean_squared_error', optimizer=optimizer, metrics=['accuracy'])\n",
        "\n",
        "\n",
        "\n",
        "\n",
        "\n",
        "\n"
      ],
      "execution_count": 0,
      "outputs": [
        {
          "output_type": "stream",
          "text": [
            "WARNING:tensorflow:From /usr/local/lib/python3.6/dist-packages/keras/optimizers.py:793: The name tf.train.Optimizer is deprecated. Please use tf.compat.v1.train.Optimizer instead.\n",
            "\n"
          ],
          "name": "stdout"
        }
      ]
    },
    {
      "cell_type": "code",
      "metadata": {
        "id": "ox1lMks1KV-a",
        "colab_type": "code",
        "colab": {}
      },
      "source": [
        "from keras.callbacks import EarlyStopping, ModelCheckpoint"
      ],
      "execution_count": 0,
      "outputs": []
    },
    {
      "cell_type": "code",
      "metadata": {
        "id": "0UmltWzBGLci",
        "colab_type": "code",
        "outputId": "3cd36951-2940-4217-a063-b7e825e5d3ff",
        "colab": {
          "base_uri": "https://localhost:8080/",
          "height": 1000
        }
      },
      "source": [
        "early_stopping =EarlyStopping(monitor='val_loss', patience=3)\n",
        "\n",
        "\n",
        "malstm_trained = malstm.fit([X_train['left'], X_train['right']], Y_train, batch_size=batch_size, nb_epoch=n_epoch,\n",
        "                            validation_data=([X_validation['left'], X_validation['right']], Y_validation), callbacks=[early_stopping])\n"
      ],
      "execution_count": 0,
      "outputs": [
        {
          "output_type": "stream",
          "text": [
            "/usr/local/lib/python3.6/dist-packages/ipykernel_launcher.py:5: UserWarning: The `nb_epoch` argument in `fit` has been renamed `epochs`.\n",
            "  \"\"\"\n"
          ],
          "name": "stderr"
        },
        {
          "output_type": "stream",
          "text": [
            "WARNING:tensorflow:From /usr/local/lib/python3.6/dist-packages/tensorflow/python/ops/math_grad.py:1250: add_dispatch_support.<locals>.wrapper (from tensorflow.python.ops.array_ops) is deprecated and will be removed in a future version.\n",
            "Instructions for updating:\n",
            "Use tf.where in 2.0, which has the same broadcast rule as np.where\n",
            "Train on 323432 samples, validate on 80858 samples\n",
            "Epoch 1/50\n",
            "323432/323432 [==============================] - 378s 1ms/step - loss: 0.1925 - acc: 0.7074 - val_loss: 0.1782 - val_acc: 0.7316\n",
            "Epoch 2/50\n",
            "323432/323432 [==============================] - 376s 1ms/step - loss: 0.1737 - acc: 0.7427 - val_loss: 0.1720 - val_acc: 0.7498\n",
            "Epoch 3/50\n",
            "323432/323432 [==============================] - 370s 1ms/step - loss: 0.1682 - acc: 0.7560 - val_loss: 0.1687 - val_acc: 0.7586\n",
            "Epoch 4/50\n",
            "323432/323432 [==============================] - 370s 1ms/step - loss: 0.1645 - acc: 0.7645 - val_loss: 0.1652 - val_acc: 0.7634\n",
            "Epoch 5/50\n",
            "323432/323432 [==============================] - 371s 1ms/step - loss: 0.1615 - acc: 0.7711 - val_loss: 0.1630 - val_acc: 0.7718\n",
            "Epoch 6/50\n",
            "323432/323432 [==============================] - 374s 1ms/step - loss: 0.1590 - acc: 0.7765 - val_loss: 0.1611 - val_acc: 0.7726\n",
            "Epoch 7/50\n",
            "323432/323432 [==============================] - 371s 1ms/step - loss: 0.1569 - acc: 0.7809 - val_loss: 0.1598 - val_acc: 0.7715\n",
            "Epoch 8/50\n",
            "323432/323432 [==============================] - 381s 1ms/step - loss: 0.1551 - acc: 0.7851 - val_loss: 0.1614 - val_acc: 0.7644\n",
            "Epoch 9/50\n",
            "323432/323432 [==============================] - 378s 1ms/step - loss: 0.1535 - acc: 0.7879 - val_loss: 0.1568 - val_acc: 0.7845\n",
            "Epoch 10/50\n",
            "323432/323432 [==============================] - 371s 1ms/step - loss: 0.1522 - acc: 0.7905 - val_loss: 0.1551 - val_acc: 0.7833\n",
            "Epoch 11/50\n",
            "323432/323432 [==============================] - 374s 1ms/step - loss: 0.1509 - acc: 0.7927 - val_loss: 0.1546 - val_acc: 0.7806\n",
            "Epoch 12/50\n",
            "323432/323432 [==============================] - 375s 1ms/step - loss: 0.1497 - acc: 0.7947 - val_loss: 0.1543 - val_acc: 0.7815\n",
            "Epoch 13/50\n",
            "323432/323432 [==============================] - 380s 1ms/step - loss: 0.1487 - acc: 0.7968 - val_loss: 0.1529 - val_acc: 0.7883\n",
            "Epoch 14/50\n",
            "323432/323432 [==============================] - 379s 1ms/step - loss: 0.1478 - acc: 0.7985 - val_loss: 0.1531 - val_acc: 0.7829\n",
            "Epoch 15/50\n",
            "323432/323432 [==============================] - 375s 1ms/step - loss: 0.1470 - acc: 0.7998 - val_loss: 0.1523 - val_acc: 0.7849\n",
            "Epoch 16/50\n",
            "323432/323432 [==============================] - 378s 1ms/step - loss: 0.1461 - acc: 0.8017 - val_loss: 0.1553 - val_acc: 0.7903\n",
            "Epoch 17/50\n",
            "323432/323432 [==============================] - 376s 1ms/step - loss: 0.1454 - acc: 0.8023 - val_loss: 0.1519 - val_acc: 0.7934\n",
            "Epoch 18/50\n",
            "323432/323432 [==============================] - 377s 1ms/step - loss: 0.1447 - acc: 0.8037 - val_loss: 0.1505 - val_acc: 0.7944\n",
            "Epoch 19/50\n",
            "323432/323432 [==============================] - 377s 1ms/step - loss: 0.1441 - acc: 0.8052 - val_loss: 0.1497 - val_acc: 0.7949\n",
            "Epoch 20/50\n",
            "323432/323432 [==============================] - 377s 1ms/step - loss: 0.1435 - acc: 0.8058 - val_loss: 0.1492 - val_acc: 0.7937\n",
            "Epoch 21/50\n",
            "323432/323432 [==============================] - 376s 1ms/step - loss: 0.1429 - acc: 0.8066 - val_loss: 0.1488 - val_acc: 0.7944\n",
            "Epoch 22/50\n",
            "323432/323432 [==============================] - 378s 1ms/step - loss: 0.1424 - acc: 0.8079 - val_loss: 0.1495 - val_acc: 0.7979\n",
            "Epoch 23/50\n",
            "323432/323432 [==============================] - 376s 1ms/step - loss: 0.1418 - acc: 0.8088 - val_loss: 0.1480 - val_acc: 0.7968\n",
            "Epoch 24/50\n",
            "323432/323432 [==============================] - 380s 1ms/step - loss: 0.1413 - acc: 0.8095 - val_loss: 0.1480 - val_acc: 0.7947\n",
            "Epoch 25/50\n",
            "323432/323432 [==============================] - 375s 1ms/step - loss: 0.1409 - acc: 0.8102 - val_loss: 0.1475 - val_acc: 0.7980\n",
            "Epoch 26/50\n",
            "323432/323432 [==============================] - 376s 1ms/step - loss: 0.1404 - acc: 0.8111 - val_loss: 0.1469 - val_acc: 0.7966\n",
            "Epoch 27/50\n",
            "323432/323432 [==============================] - 383s 1ms/step - loss: 0.1399 - acc: 0.8120 - val_loss: 0.1482 - val_acc: 0.7917\n",
            "Epoch 28/50\n",
            "323432/323432 [==============================] - 386s 1ms/step - loss: 0.1395 - acc: 0.8124 - val_loss: 0.1469 - val_acc: 0.8006\n",
            "Epoch 29/50\n",
            "323432/323432 [==============================] - 384s 1ms/step - loss: 0.1391 - acc: 0.8132 - val_loss: 0.1462 - val_acc: 0.7981\n",
            "Epoch 30/50\n",
            "323432/323432 [==============================] - 384s 1ms/step - loss: 0.1387 - acc: 0.8138 - val_loss: 0.1468 - val_acc: 0.8019\n",
            "Epoch 31/50\n",
            "323432/323432 [==============================] - 385s 1ms/step - loss: 0.1383 - acc: 0.8143 - val_loss: 0.1454 - val_acc: 0.7985\n",
            "Epoch 32/50\n",
            "323432/323432 [==============================] - 375s 1ms/step - loss: 0.1380 - acc: 0.8153 - val_loss: 0.1457 - val_acc: 0.7970\n",
            "Epoch 33/50\n",
            "323432/323432 [==============================] - 382s 1ms/step - loss: 0.1376 - acc: 0.8155 - val_loss: 0.1466 - val_acc: 0.7929\n",
            "Epoch 34/50\n",
            "323432/323432 [==============================] - 382s 1ms/step - loss: 0.1373 - acc: 0.8158 - val_loss: 0.1445 - val_acc: 0.8022\n",
            "Epoch 35/50\n",
            "323432/323432 [==============================] - 375s 1ms/step - loss: 0.1369 - acc: 0.8166 - val_loss: 0.1441 - val_acc: 0.8030\n",
            "Epoch 36/50\n",
            "323432/323432 [==============================] - 372s 1ms/step - loss: 0.1366 - acc: 0.8167 - val_loss: 0.1441 - val_acc: 0.8006\n",
            "Epoch 37/50\n",
            "323432/323432 [==============================] - 379s 1ms/step - loss: 0.1363 - acc: 0.8174 - val_loss: 0.1446 - val_acc: 0.7985\n",
            "Epoch 38/50\n",
            "323432/323432 [==============================] - 376s 1ms/step - loss: 0.1360 - acc: 0.8179 - val_loss: 0.1439 - val_acc: 0.8011\n",
            "Epoch 39/50\n",
            "323328/323432 [============================>.] - ETA: 0s - loss: 0.1357 - acc: 0.8185Epoch 40/50\n",
            "323432/323432 [==============================] - 375s 1ms/step - loss: 0.1354 - acc: 0.8188 - val_loss: 0.1432 - val_acc: 0.8044\n",
            "Epoch 41/50\n",
            "323432/323432 [==============================] - 377s 1ms/step - loss: 0.1352 - acc: 0.8192 - val_loss: 0.1431 - val_acc: 0.8041\n",
            "Epoch 42/50\n",
            "323432/323432 [==============================] - 377s 1ms/step - loss: 0.1349 - acc: 0.8197 - val_loss: 0.1439 - val_acc: 0.7988\n",
            "Epoch 43/50\n",
            "323432/323432 [==============================] - 377s 1ms/step - loss: 0.1347 - acc: 0.8201 - val_loss: 0.1430 - val_acc: 0.8062\n",
            "Epoch 44/50\n",
            "323432/323432 [==============================] - 375s 1ms/step - loss: 0.1343 - acc: 0.8205 - val_loss: 0.1428 - val_acc: 0.8050\n",
            "Epoch 45/50\n",
            "323432/323432 [==============================] - 376s 1ms/step - loss: 0.1341 - acc: 0.8209 - val_loss: 0.1430 - val_acc: 0.8061\n",
            "Epoch 46/50\n",
            "323432/323432 [==============================] - 377s 1ms/step - loss: 0.1339 - acc: 0.8215 - val_loss: 0.1428 - val_acc: 0.8063\n",
            "Epoch 47/50\n",
            "323432/323432 [==============================] - 377s 1ms/step - loss: 0.1336 - acc: 0.8218 - val_loss: 0.1422 - val_acc: 0.8034\n",
            "Epoch 48/50\n",
            "323432/323432 [==============================] - 374s 1ms/step - loss: 0.1334 - acc: 0.8220 - val_loss: 0.1430 - val_acc: 0.8017\n",
            "Epoch 49/50\n",
            "323432/323432 [==============================] - 378s 1ms/step - loss: 0.1331 - acc: 0.8225 - val_loss: 0.1425 - val_acc: 0.8063\n",
            "Epoch 50/50\n",
            "323432/323432 [==============================] - 374s 1ms/step - loss: 0.1329 - acc: 0.8227 - val_loss: 0.1419 - val_acc: 0.8078\n"
          ],
          "name": "stdout"
        }
      ]
    },
    {
      "cell_type": "code",
      "metadata": {
        "id": "jkEibZ-lJ0E2",
        "colab_type": "code",
        "outputId": "7f7283b4-a4cc-49d4-a7c1-aea6c0ff02a3",
        "colab": {
          "base_uri": "https://localhost:8080/",
          "height": 573
        }
      },
      "source": [
        "# Plot accuracy\n",
        "plt.plot(malstm_trained.history['acc'])\n",
        "plt.plot(malstm_trained.history['val_acc'])\n",
        "plt.title('Model Accuracy')\n",
        "plt.ylabel('Accuracy')\n",
        "plt.xlabel('Epoch')\n",
        "plt.legend(['Train', 'Validation'], loc='upper left')\n",
        "plt.show()\n",
        "\n",
        "# Plot loss\n",
        "plt.plot(malstm_trained.history['loss'])\n",
        "plt.plot(malstm_trained.history['val_loss'])\n",
        "plt.title('Model Loss')\n",
        "plt.ylabel('Loss')\n",
        "plt.xlabel('Epoch')\n",
        "plt.legend(['Train', 'Validation'], loc='upper right')\n",
        "plt.show()"
      ],
      "execution_count": 0,
      "outputs": [
        {
          "output_type": "display_data",
          "data": {
            "image/png": "[encoded data removed]",
            "text/plain": [
              "<Figure size 432x288 with 1 Axes>"
            ]
          },
          "metadata": {
            "tags": []
          }
        },
        {
          "output_type": "display_data",
          "data": {
            "image/png": "[encoded data removed]",
            "text/plain": [
              "<Figure size 432x288 with 1 Axes>"
            ]
          },
          "metadata": {
            "tags": []
          }
        }
      ]
    }
  ]
}